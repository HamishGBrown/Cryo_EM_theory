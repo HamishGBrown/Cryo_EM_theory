{
 "cells": [
  {
   "cell_type": "code",
   "execution_count": null,
   "id": "a6f30cf5",
   "metadata": {},
   "outputs": [],
   "source": [
    "import mrcfile as mrc\n",
    "import matplotlib.pyplot as plt\n",
    "import numpy as np\n",
    "import healpy\n",
    "from scipy.spatial.transform import Rotation\n",
    "from scipy.interpolate import RegularGridInterpolator\n",
    "\n",
    "pdb = '8F76'\n",
    "m = mrc.open('{0}.mrc'.format(pdb),'r')\n",
    "volume = np.asarray(m.data)\n",
    "psize = m.voxel_size['x']\n",
    "\n",
    "\n",
    "grid = [np.arange(x) -x//2 for x in volume.shape]\n",
    "\n",
    "\n",
    "# Fourier transform volume\n",
    "volfft = np.fft.ifftshift(np.fft.fftn(np.fft.fftshift(volume)))\n",
    "\n",
    "# We will need to \"interpolate\" the grid - estimate values in between the pixels and this\n",
    "# function prepares for that\n",
    "vol = RegularGridInterpolator(grid,volfft,method=\"linear\",bounds_error=False,fill_value=0)\n",
    "\n",
    "def project_volume(vol,rot,tilt,psi,returnfft=False):\n",
    "    R = Rotation.from_euler('zyz',[rot,tilt,psi],degrees=False).as_matrix()\n",
    "    \n",
    "    # Generate coordinates of plane normal to projection direction\n",
    "    x = R[0].reshape((3,1))*np.arange(-volume.shape[0]//2,volume.shape[0]//2).reshape((1,volume.shape[0]))\n",
    "    y = R[1].reshape((3,1))*np.arange(-volume.shape[1]//2,volume.shape[1]//2).reshape((1,volume.shape[0]))\n",
    "    g = (x.reshape(3,volume.shape[0],1)+y.reshape(3,1,volume.shape[1])).reshape(3,np.product(volume.shape[:2])).T\n",
    "    \n",
    "    # Extract plane\n",
    "    fftprojection = vol(g).reshape(volume.shape[:2])\n",
    "    projection = np.fft.ifftshift(np.real(np.fft.ifft2(np.fft.fftshift(fftprojection))))/volume.shape[0]\n",
    "    \n",
    "    if returnfft:\n",
    "        return projection,fftprojection\n",
    "    else:\n",
    "        return projection\n",
    "fig,ax = plt.subplots(nrows=4,ncols=4)\n",
    "for i in range(16):\n",
    "    rot,tilt = healpy.pixelfunc.pix2ang(16,i)\n",
    "    ax[i//4,i%4].imshow(project_volume(vol,rot,tilt,0))\n"
   ]
  }
 ],
 "metadata": {
  "kernelspec": {
   "display_name": "Python 3 (ipykernel)",
   "language": "python",
   "name": "python3"
  },
  "language_info": {
   "codemirror_mode": {
    "name": "ipython",
    "version": 3
   },
   "file_extension": ".py",
   "mimetype": "text/x-python",
   "name": "python",
   "nbconvert_exporter": "python",
   "pygments_lexer": "ipython3",
   "version": "3.8.11"
  }
 },
 "nbformat": 4,
 "nbformat_minor": 5
}
